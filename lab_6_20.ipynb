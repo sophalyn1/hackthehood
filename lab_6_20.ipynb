{
  "nbformat": 4,
  "nbformat_minor": 0,
  "metadata": {
    "colab": {
      "provenance": [],
      "authorship_tag": "ABX9TyNyTRHx+CPvV7eyWoaNUkbJ",
      "include_colab_link": true
    },
    "kernelspec": {
      "name": "python3",
      "display_name": "Python 3"
    },
    "language_info": {
      "name": "python"
    }
  },
  "cells": [
    {
      "cell_type": "markdown",
      "metadata": {
        "id": "view-in-github",
        "colab_type": "text"
      },
      "source": [
        "<a href=\"https://colab.research.google.com/github/sophalyn1/hackthehood/blob/main/lab_6_20.ipynb\" target=\"_parent\"><img src=\"https://colab.research.google.com/assets/colab-badge.svg\" alt=\"Open In Colab\"/></a>"
      ]
    },
    {
      "cell_type": "code",
      "execution_count": null,
      "metadata": {
        "id": "ndgLGT8HL3HB"
      },
      "outputs": [],
      "source": [
        "# Lab June.20"
      ]
    },
    {
      "cell_type": "code",
      "source": [
        "First_name = 'John'\n",
        "Last_Name = 'Connor'\n",
        "Age = 23\n",
        "Fav_Colour = 'Gray'\n",
        "Fav_Sport = 'Soccer'\n",
        "Fav_Team = 'Man U'"
      ],
      "metadata": {
        "id": "POy8lj2lM4z8"
      },
      "execution_count": null,
      "outputs": []
    },
    {
      "cell_type": "code",
      "source": [
        "First_name = \"Sophalyn\"\n",
        "Last_Name = \"Saren\"\n",
        "Age = \"16\"\n",
        "Fav_Colour = \"Blue\"\n",
        "Fav_Sport = \"Volleyball\"\n",
        "Fav_Team = \"NVA\""
      ],
      "metadata": {
        "id": "W7oaVpmMQuN7"
      },
      "execution_count": 12,
      "outputs": []
    },
    {
      "cell_type": "code",
      "source": [
        "First_name = input('What is your first name?')\n",
        "# In this line I am using the input method to ask the user's first name\n",
        "\n",
        "Last_Name = input('What is your last name?')\n",
        "\n",
        "Age = input('What is your age?')\n",
        "\n",
        "Fav_Colour = input('What is your favourite colour?')\n",
        "\n",
        "Fav_Sport = input('What is your favourite sport?')\n",
        "\n",
        "Fav_Team = input('What is your favourite team?')"
      ],
      "metadata": {
        "colab": {
          "base_uri": "https://localhost:8080/"
        },
        "id": "nNpn2g5YVXQu",
        "outputId": "8b6f4816-1fd0-4b38-9973-a1590b1b0190"
      },
      "execution_count": 15,
      "outputs": [
        {
          "name": "stdout",
          "output_type": "stream",
          "text": [
            "What is your first name?Sophalyn \n",
            "What is your last name?Saren\n",
            "What is your age?16\n",
            "What is your favourite colour?blue \n",
            "What is your favourite sport?volleyball\n",
            "What is your favourite team?nva\n"
          ]
        }
      ]
    }
  ]
}