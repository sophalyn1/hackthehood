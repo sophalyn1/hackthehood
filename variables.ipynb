{
  "nbformat": 4,
  "nbformat_minor": 0,
  "metadata": {
    "colab": {
      "provenance": [],
      "authorship_tag": "ABX9TyMUmgWEQYBluMf4HEg71zHP",
      "include_colab_link": true
    },
    "kernelspec": {
      "name": "python3",
      "display_name": "Python 3"
    },
    "language_info": {
      "name": "python"
    }
  },
  "cells": [
    {
      "cell_type": "markdown",
      "metadata": {
        "id": "view-in-github",
        "colab_type": "text"
      },
      "source": [
        "<a href=\"https://colab.research.google.com/github/sophalyn1/hackthehood/blob/main/variables.ipynb\" target=\"_parent\"><img src=\"https://colab.research.google.com/assets/colab-badge.svg\" alt=\"Open In Colab\"/></a>"
      ]
    },
    {
      "cell_type": "code",
      "execution_count": 7,
      "metadata": {
        "colab": {
          "base_uri": "https://localhost:8080/"
        },
        "id": "xNAf_CHXUv8A",
        "outputId": "a7a3da3c-d8d4-4cc5-cf0c-0604dc0ed3ff"
      },
      "outputs": [
        {
          "output_type": "stream",
          "name": "stdout",
          "text": [
            "350\n",
            "350\n",
            "350\n",
            "1\n",
            "1100\n"
          ]
        }
      ],
      "source": [
        "time = 350\n",
        "print(time)\n",
        "print(time)\n",
        "print(time)\n",
        "level = 1\n",
        "score = 1100\n",
        "print(level)\n",
        "print(score)"
      ]
    },
    {
      "cell_type": "code",
      "source": [
        "# variable reassignment\n",
        "time = 350\n",
        "print(time)\n",
        "time = 500\n",
        "print(time)\n",
        "print(time)\n",
        "print(time)\n",
        "time = 700\n",
        "time = 900\n",
        "print(time)"
      ],
      "metadata": {
        "colab": {
          "base_uri": "https://localhost:8080/"
        },
        "id": "ZSSwVVz1das8",
        "outputId": "8dbdad9a-708b-4752-d24a-949488e7869f"
      },
      "execution_count": 9,
      "outputs": [
        {
          "output_type": "stream",
          "name": "stdout",
          "text": [
            "350\n",
            "500\n",
            "500\n",
            "500\n",
            "900\n"
          ]
        }
      ]
    },
    {
      "cell_type": "code",
      "source": [
        "# variables name with snake case\n",
        "sophalyn_age = 16\n",
        "\n",
        "print(type(sophalyn_age))\n",
        "\n",
        "(delicious_in_dungeoun_rating ) = 4.5\n",
        "print(type(delicious_in_dungeoun_rating))\n",
        "\n",
        "my_name = \"Sophalyn\"\n",
        "my_name_single_quotes = 'Sophalyn'\n",
        "print(my_name)\n",
        "print(type(my_name))\n",
        "\n",
        "print(my_name_single_quotes)\n",
        "print(type(my_name_single_quotes))\n",
        "\n",
        "today_is_a_great_day = True\n",
        "print(today_is_a_great_day)\n",
        "print(type(today_is_a_great_day))\n",
        "\n",
        "the_sky_is_red = False\n",
        "print(the_sky_is_red)\n",
        "print(type(the_sky_is_red))\n",
        "\n",
        "\n",
        "\n"
      ],
      "metadata": {
        "colab": {
          "base_uri": "https://localhost:8080/"
        },
        "id": "GOZU5dgycxM9",
        "outputId": "9146ae88-e7d5-4c44-9b01-002283479894"
      },
      "execution_count": 8,
      "outputs": [
        {
          "output_type": "stream",
          "name": "stdout",
          "text": [
            "<class 'int'>\n",
            "<class 'float'>\n",
            "Sophalyn\n",
            "<class 'str'>\n",
            "Sophalyn\n",
            "<class 'str'>\n",
            "True\n",
            "<class 'bool'>\n",
            "False\n",
            "<class 'bool'>\n"
          ]
        }
      ]
    },
    {
      "cell_type": "code",
      "source": [
        "my_name = \"sophalyn\"\n",
        "my_age = 16\n",
        "my_hobby = \"Art\"\n",
        "my_identity = \"south_east_asian\"\n"
      ],
      "metadata": {
        "id": "ifrP9vDTlY_F"
      },
      "execution_count": 16,
      "outputs": []
    }
  ]
}